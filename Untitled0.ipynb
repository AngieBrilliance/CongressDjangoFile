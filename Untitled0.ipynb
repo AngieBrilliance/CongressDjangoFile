{
 "metadata": {
  "name": "",
  "signature": "sha256:b88fac13cb383823a58b361992ec6406b9b75f891db9bc38d6d0602491cb9a13"
 },
 "nbformat": 3,
 "nbformat_minor": 0,
 "worksheets": [
  {
   "cells": [
    {
     "cell_type": "code",
     "collapsed": false,
     "input": [
      "from backendminiapp.models import Legislator\n",
      "import requests"
     ],
     "language": "python",
     "metadata": {},
     "outputs": [],
     "prompt_number": 6
    },
    {
     "cell_type": "code",
     "collapsed": false,
     "input": [
      "leg = Legislator.objects.get(id=1)"
     ],
     "language": "python",
     "metadata": {},
     "outputs": [],
     "prompt_number": 7
    },
    {
     "cell_type": "code",
     "collapsed": false,
     "input": [
      "leg.chamber"
     ],
     "language": "python",
     "metadata": {},
     "outputs": [
      {
       "metadata": {},
       "output_type": "pyout",
       "prompt_number": 8,
       "text": [
        "u'Senate'"
       ]
      }
     ],
     "prompt_number": 8
    },
    {
     "cell_type": "code",
     "collapsed": false,
     "input": [
      "result = requests.get('https://congress.api.sunlightfoundation.com/legislators?query=Warren&apikey=a4967448b3d64250a6250f20fb994ff9')"
     ],
     "language": "python",
     "metadata": {},
     "outputs": [],
     "prompt_number": 9
    },
    {
     "cell_type": "raw",
     "metadata": {},
     "source": [
      "result"
     ]
    },
    {
     "cell_type": "code",
     "collapsed": false,
     "input": [
      "parsed_result = result.json()['results'][0]"
     ],
     "language": "python",
     "metadata": {},
     "outputs": [],
     "prompt_number": 19
    },
    {
     "cell_type": "code",
     "collapsed": false,
     "input": [
      "parsed_result"
     ],
     "language": "python",
     "metadata": {},
     "outputs": [
      {
       "metadata": {},
       "output_type": "pyout",
       "prompt_number": 20,
       "text": [
        "{u'bioguide_id': u'W000817',\n",
        " u'birthday': u'1949-06-22',\n",
        " u'chamber': u'senate',\n",
        " u'contact_form': u'http://www.warren.senate.gov/?p=email_senator#thisForm',\n",
        " u'crp_id': u'N00033492',\n",
        " u'district': None,\n",
        " u'facebook_id': u'131559043673264',\n",
        " u'fax': None,\n",
        " u'fec_ids': [u'S2MA00170'],\n",
        " u'first_name': u'Elizabeth',\n",
        " u'gender': u'F',\n",
        " u'govtrack_id': u'412542',\n",
        " u'icpsr_id': 41301,\n",
        " u'in_office': True,\n",
        " u'last_name': u'Warren',\n",
        " u'lis_id': u'S366',\n",
        " u'middle_name': None,\n",
        " u'name_suffix': None,\n",
        " u'nickname': None,\n",
        " u'oc_email': u'Sen.Warren@opencongress.org',\n",
        " u'ocd_id': u'ocd-division/country:us/state:ma',\n",
        " u'office': u'317 Hart Senate Office Building',\n",
        " u'party': u'D',\n",
        " u'phone': u'202-224-4543',\n",
        " u'senate_class': 1,\n",
        " u'state': u'MA',\n",
        " u'state_name': u'Massachusetts',\n",
        " u'state_rank': u'senior',\n",
        " u'term_end': u'2019-01-03',\n",
        " u'term_start': u'2013-01-03',\n",
        " u'thomas_id': u'02182',\n",
        " u'title': u'Sen',\n",
        " u'twitter_id': u'SenWarren',\n",
        " u'votesmart_id': 141272,\n",
        " u'website': u'http://www.warren.senate.gov',\n",
        " u'youtube_id': u'senelizabethwarren'}"
       ]
      }
     ],
     "prompt_number": 20
    },
    {
     "cell_type": "code",
     "collapsed": false,
     "input": [
      "new_leg = Legislator(state_name=parsed_result['state'])"
     ],
     "language": "python",
     "metadata": {},
     "outputs": [],
     "prompt_number": 21
    },
    {
     "cell_type": "code",
     "collapsed": false,
     "input": [
      "new_leg"
     ],
     "language": "python",
     "metadata": {},
     "outputs": [
      {
       "metadata": {},
       "output_type": "pyout",
       "prompt_number": 22,
       "text": [
        "<Legislator: , MA>"
       ]
      }
     ],
     "prompt_number": 22
    },
    {
     "cell_type": "code",
     "collapsed": false,
     "input": [
      "new_leg.state_name = parsed_result['state_name']"
     ],
     "language": "python",
     "metadata": {},
     "outputs": [],
     "prompt_number": 23
    },
    {
     "cell_type": "code",
     "collapsed": false,
     "input": [
      "new_leg.state_name"
     ],
     "language": "python",
     "metadata": {},
     "outputs": [
      {
       "metadata": {},
       "output_type": "pyout",
       "prompt_number": 24,
       "text": [
        "u'Massachusetts'"
       ]
      }
     ],
     "prompt_number": 24
    },
    {
     "cell_type": "code",
     "collapsed": false,
     "input": [],
     "language": "python",
     "metadata": {},
     "outputs": []
    }
   ],
   "metadata": {}
  }
 ]
}